{
 "cells": [
  {
   "cell_type": "markdown",
   "metadata": {},
   "source": [
    "Jetson Nano(AT017-NAO-EN70)即時影像測試\n",
    "\n",
    "資料來淵:https://steam.oxxostudio.tw/category/python/ai/ai-mediapipe-hand.html\n",
    "\n",
    "Requirenment：pytohn3.8.10\n",
    "\n",
    "Setup:\n",
    "\n",
    "終端機：sudo apt-get install python-opencv\n",
    "\n",
    "終端機：pip3 install mediapipe\n",
    "\n",
    "numpy==1.23.5\n",
    "\n",
    "tensorflow==2.12.0\n"
   ]
  },
  {
   "cell_type": "markdown",
   "metadata": {},
   "source": [
    "-------------------------------------\n"
   ]
  },
  {
   "cell_type": "markdown",
   "metadata": {},
   "source": [
    "mediapipe人臉偵測"
   ]
  },
  {
   "cell_type": "code",
   "execution_count": 3,
   "metadata": {},
   "outputs": [],
   "source": [
    "# -*- coding: utf-8 -*-\n",
    "import cv2\n",
    "import mediapipe as mp     # 載入 mediapipe 函式庫\n",
    "\n",
    "cap = cv2.VideoCapture(0)\n",
    "mp_face_detection = mp.solutions.face_detection   # 建立偵測方法\n",
    "mp_drawing = mp.solutions.drawing_utils           # 建立繪圖方法\n",
    "\n",
    "with mp_face_detection.FaceDetection(             # 開始偵測人臉\n",
    "    model_selection=0, min_detection_confidence=0.5) as face_detection:\n",
    "\n",
    "    if not cap.isOpened():\n",
    "        print(\"Cannot open camera\")\n",
    "        exit()\n",
    "    while True:\n",
    "        ret, img = cap.read()\n",
    "        if not ret:\n",
    "            print(\"Cannot receive frame\")\n",
    "            break\n",
    "        img2 = cv2.cvtColor(img, cv2.COLOR_BGR2RGB)   # 將 BGR 顏色轉換成 RGB\n",
    "        results = face_detection.process(img2)        # 偵測人臉\n",
    "\n",
    "        if results.detections:\n",
    "            for detection in results.detections:\n",
    "                mp_drawing.draw_detection(img, detection)  # 標記人臉\n",
    "\n",
    "        cv2.imshow('oxxostudio', img)\n",
    "        if cv2.waitKey(5) == ord('q'):\n",
    "            break    # 按下 q 鍵停止\n",
    "cap.release()\n",
    "cv2.destroyAllWindows()"
   ]
  },
  {
   "cell_type": "markdown",
   "metadata": {},
   "source": [
    "測試畫面：![title](img/test-1.png?raw=true)"
   ]
  },
  {
   "cell_type": "markdown",
   "metadata": {},
   "source": [
    "---------------"
   ]
  },
  {
   "cell_type": "markdown",
   "metadata": {},
   "source": [
    "mediapipe 人臉網格"
   ]
  },
  {
   "cell_type": "code",
   "execution_count": 4,
   "metadata": {},
   "outputs": [],
   "source": [
    "# -*- coding: utf-8 -*-\n",
    "import cv2\n",
    "import mediapipe as mp\n",
    "\n",
    "mp_drawing = mp.solutions.drawing_utils             # mediapipe 繪圖方法\n",
    "mp_drawing_styles = mp.solutions.drawing_styles     # mediapipe 繪圖樣式\n",
    "mp_face_mesh = mp.solutions.face_mesh               # mediapipe 人臉網格方法\n",
    "drawing_spec = mp_drawing.DrawingSpec(thickness=1, circle_radius=1)  # 繪圖參數設定\n",
    "\n",
    "cap = cv2.VideoCapture(0)\n",
    "\n",
    "# 啟用人臉網格偵測，設定相關參數\n",
    "with mp_face_mesh.FaceMesh(\n",
    "    max_num_faces=1,       # 一次偵測最多幾個人臉\n",
    "    refine_landmarks=True,\n",
    "    min_detection_confidence=0.5,\n",
    "    min_tracking_confidence=0.5) as face_mesh:\n",
    "\n",
    "    if not cap.isOpened():\n",
    "        print(\"Cannot open camera\")\n",
    "        exit()\n",
    "    while True:\n",
    "        ret, img = cap.read()\n",
    "        if not ret:\n",
    "            print(\"Cannot receive frame\")\n",
    "            break\n",
    "        img2 = cv2.cvtColor(img, cv2.COLOR_BGR2RGB)   # 顏色 BGR 轉換為 RGB\n",
    "        results = face_mesh.process(img2)             # 取得人臉網格資訊\n",
    "        if results.multi_face_landmarks:\n",
    "            for face_landmarks in results.multi_face_landmarks:\n",
    "                # 繪製網格\n",
    "                mp_drawing.draw_landmarks(\n",
    "                    image=img,\n",
    "                    landmark_list=face_landmarks,\n",
    "                    connections=mp_face_mesh.FACEMESH_TESSELATION,\n",
    "                    landmark_drawing_spec=None,\n",
    "                    connection_drawing_spec=mp_drawing_styles\n",
    "                    .get_default_face_mesh_tesselation_style())\n",
    "                # 繪製輪廓\n",
    "                mp_drawing.draw_landmarks(\n",
    "                    image=img,\n",
    "                    landmark_list=face_landmarks,\n",
    "                    connections=mp_face_mesh.FACEMESH_CONTOURS,\n",
    "                    landmark_drawing_spec=None,\n",
    "                    connection_drawing_spec=mp_drawing_styles\n",
    "                    .get_default_face_mesh_contours_style())\n",
    "                # 繪製眼睛\n",
    "                mp_drawing.draw_landmarks(\n",
    "                    image=img,\n",
    "                    landmark_list=face_landmarks,\n",
    "                    connections=mp_face_mesh.FACEMESH_IRISES,\n",
    "                    landmark_drawing_spec=None,\n",
    "                    connection_drawing_spec=mp_drawing_styles\n",
    "                    .get_default_face_mesh_iris_connections_style())\n",
    "\n",
    "        cv2.imshow('oxxostudio', img)\n",
    "        if cv2.waitKey(5) == ord('q'):\n",
    "            break    # 按下 q 鍵停止\n",
    "cap.release()\n",
    "cv2.destroyAllWindows()"
   ]
  },
  {
   "cell_type": "markdown",
   "metadata": {},
   "source": [
    "測試畫面：![title](img/test-2.png)"
   ]
  },
  {
   "cell_type": "markdown",
   "metadata": {},
   "source": [
    "---------\n"
   ]
  },
  {
   "cell_type": "markdown",
   "metadata": {},
   "source": [
    "mediapipe 只有網格"
   ]
  },
  {
   "cell_type": "code",
   "execution_count": 5,
   "metadata": {},
   "outputs": [],
   "source": [
    "# -*- coding: utf-8 -*-\n",
    "import cv2\n",
    "import mediapipe as mp\n",
    "import numpy as np       # 載入 numpy 函式庫\n",
    "\n",
    "mp_drawing = mp.solutions.drawing_utils\n",
    "mp_drawing_styles = mp.solutions.drawing_styles\n",
    "mp_face_mesh = mp.solutions.face_mesh\n",
    "drawing_spec = mp_drawing.DrawingSpec(thickness=1, circle_radius=1)\n",
    "\n",
    "cap = cv2.VideoCapture(0)\n",
    "\n",
    "with mp_face_mesh.FaceMesh(\n",
    "    max_num_faces=1,\n",
    "    refine_landmarks=True,\n",
    "    min_detection_confidence=0.5,\n",
    "    min_tracking_confidence=0.5) as face_mesh:\n",
    "\n",
    "    if not cap.isOpened():\n",
    "        print(\"Cannot open camera\")\n",
    "        exit()\n",
    "    while True:\n",
    "        ret, img = cap.read()\n",
    "        if not ret:\n",
    "            print(\"Cannot receive frame\")\n",
    "            break\n",
    "        img = cv2.resize(img,(480,320))                 # 調整影像尺寸為 480x320\n",
    "        output = np.zeros((320,480,3), dtype='uint8')   # 繪製 480x320 的黑色畫布\n",
    "        img2 = cv2.cvtColor(img, cv2.COLOR_BGR2RGB)\n",
    "        results = face_mesh.process(img2)\n",
    "        if results.multi_face_landmarks:\n",
    "            for face_landmarks in results.multi_face_landmarks:\n",
    "                # 繪製網格\n",
    "                mp_drawing.draw_landmarks(\n",
    "                    image=output,     # 繪製到 output\n",
    "                    landmark_list=face_landmarks,\n",
    "                    connections=mp_face_mesh.FACEMESH_TESSELATION,\n",
    "                    landmark_drawing_spec=None,\n",
    "                    connection_drawing_spec=mp_drawing_styles\n",
    "                    .get_default_face_mesh_tesselation_style())\n",
    "                # 繪製輪廓\n",
    "                mp_drawing.draw_landmarks(\n",
    "                    image=output,     # 繪製到 output\n",
    "                    landmark_list=face_landmarks,\n",
    "                    connections=mp_face_mesh.FACEMESH_CONTOURS,\n",
    "                    landmark_drawing_spec=None,\n",
    "                    connection_drawing_spec=mp_drawing_styles\n",
    "                    .get_default_face_mesh_contours_style())\n",
    "                # 繪製眼睛\n",
    "                mp_drawing.draw_landmarks(\n",
    "                    image=output,     # 繪製到 output\n",
    "                    landmark_list=face_landmarks,\n",
    "                    connections=mp_face_mesh.FACEMESH_IRISES,\n",
    "                    landmark_drawing_spec=None,\n",
    "                    connection_drawing_spec=mp_drawing_styles\n",
    "                    .get_default_face_mesh_iris_connections_style())\n",
    "\n",
    "        cv2.imshow('oxxostudio', output)     # 顯示 output\n",
    "        if cv2.waitKey(5) == ord('q'):\n",
    "            break    # 按下 q 鍵停止\n",
    "cap.release()\n",
    "cv2.destroyAllWindows()"
   ]
  },
  {
   "cell_type": "markdown",
   "metadata": {},
   "source": [
    "測試畫面：![title](img/test-3.png)"
   ]
  },
  {
   "cell_type": "markdown",
   "metadata": {},
   "source": [
    "---"
   ]
  },
  {
   "cell_type": "markdown",
   "metadata": {},
   "source": [
    "mediapipe 手掌偵測"
   ]
  },
  {
   "cell_type": "markdown",
   "metadata": {},
   "source": [
    "手掌節點與位置：![title](img/hand.png)"
   ]
  },
  {
   "cell_type": "code",
   "execution_count": 6,
   "metadata": {},
   "outputs": [],
   "source": [
    "# -*- coding: utf-8 -*-\n",
    "import cv2\n",
    "import mediapipe as mp\n",
    "\n",
    "mp_drawing = mp.solutions.drawing_utils          # mediapipe 繪圖方法\n",
    "mp_drawing_styles = mp.solutions.drawing_styles  # mediapipe 繪圖樣式\n",
    "mp_hands = mp.solutions.hands                    # mediapipe 偵測手掌方法\n",
    "\n",
    "cap = cv2.VideoCapture(0)\n",
    "\n",
    "# mediapipe 啟用偵測手掌\n",
    "with mp_hands.Hands(\n",
    "    model_complexity=0,\n",
    "    # max_num_hands=1,\n",
    "    min_detection_confidence=0.5,\n",
    "    min_tracking_confidence=0.5) as hands:\n",
    "\n",
    "    if not cap.isOpened():\n",
    "        print(\"Cannot open camera\")\n",
    "        exit()\n",
    "    while True:\n",
    "        ret, img = cap.read()\n",
    "        if not ret:\n",
    "            print(\"Cannot receive frame\")\n",
    "            break\n",
    "        img2 = cv2.cvtColor(img, cv2.COLOR_BGR2RGB)   # 將 BGR 轉換成 RGB\n",
    "        results = hands.process(img2)                 # 偵測手掌\n",
    "        if results.multi_hand_landmarks:\n",
    "            for hand_landmarks in results.multi_hand_landmarks:\n",
    "                # 將節點和骨架繪製到影像中\n",
    "                mp_drawing.draw_landmarks(\n",
    "                    img,\n",
    "                    hand_landmarks,\n",
    "                    mp_hands.HAND_CONNECTIONS,\n",
    "                    mp_drawing_styles.get_default_hand_landmarks_style(),\n",
    "                    mp_drawing_styles.get_default_hand_connections_style())\n",
    "\n",
    "        cv2.imshow('oxxostudio', img)\n",
    "        if cv2.waitKey(5) == ord('q'):\n",
    "            break    # 按下 q 鍵停止\n",
    "cap.release()\n",
    "cv2.destroyAllWindows()"
   ]
  },
  {
   "cell_type": "markdown",
   "metadata": {},
   "source": [
    "測試畫面：![title](img/test-4.png)"
   ]
  },
  {
   "cell_type": "markdown",
   "metadata": {},
   "source": [
    "---------"
   ]
  },
  {
   "cell_type": "markdown",
   "metadata": {},
   "source": [
    "Mediapipe 姿勢偵測"
   ]
  },
  {
   "cell_type": "markdown",
   "metadata": {},
   "source": [
    "骨架節點與位置：![title](img/body.png)"
   ]
  },
  {
   "cell_type": "code",
   "execution_count": 7,
   "metadata": {},
   "outputs": [],
   "source": [
    "# -*- coding: utf-8 -*-\n",
    "import cv2\n",
    "import mediapipe as mp\n",
    "mp_drawing = mp.solutions.drawing_utils          # mediapipe 繪圖方法\n",
    "mp_drawing_styles = mp.solutions.drawing_styles  # mediapipe 繪圖樣式\n",
    "mp_pose = mp.solutions.pose                      # mediapipe 姿勢偵測\n",
    "\n",
    "cap = cv2.VideoCapture(0)\n",
    "\n",
    "# 啟用姿勢偵測\n",
    "with mp_pose.Pose(\n",
    "    min_detection_confidence=0.5,\n",
    "    min_tracking_confidence=0.5) as pose:\n",
    "\n",
    "    if not cap.isOpened():\n",
    "        print(\"Cannot open camera\")\n",
    "        exit()\n",
    "    while True:\n",
    "        ret, img = cap.read()\n",
    "        if not ret:\n",
    "            print(\"Cannot receive frame\")\n",
    "            break\n",
    "        img = cv2.resize(img,(520,300))               # 縮小尺寸，加快演算速度\n",
    "        img2 = cv2.cvtColor(img, cv2.COLOR_BGR2RGB)   # 將 BGR 轉換成 RGB\n",
    "        results = pose.process(img2)                  # 取得姿勢偵測結果\n",
    "        # 根據姿勢偵測結果，標記身體節點和骨架\n",
    "        mp_drawing.draw_landmarks(\n",
    "            img,\n",
    "            results.pose_landmarks,\n",
    "            mp_pose.POSE_CONNECTIONS,\n",
    "            landmark_drawing_spec=mp_drawing_styles.get_default_pose_landmarks_style())\n",
    "\n",
    "        cv2.imshow('oxxostudio', img)\n",
    "        if cv2.waitKey(5) == ord('q'):\n",
    "            break     # 按下 q 鍵停止\n",
    "cap.release()\n",
    "cv2.destroyAllWindows()"
   ]
  },
  {
   "cell_type": "markdown",
   "metadata": {},
   "source": [
    "測試畫面：![title](img/test-5.png)"
   ]
  },
  {
   "cell_type": "markdown",
   "metadata": {},
   "source": [
    "-------"
   ]
  },
  {
   "cell_type": "markdown",
   "metadata": {},
   "source": [
    "Mediapipe 全身偵測"
   ]
  },
  {
   "cell_type": "markdown",
   "metadata": {},
   "source": [
    "可以偵測身體姿勢、臉部網格、手掌動作，完整偵測則會產生 543 個偵測節點"
   ]
  },
  {
   "cell_type": "markdown",
   "metadata": {},
   "source": [
    "![title](img/body-2.png)"
   ]
  },
  {
   "cell_type": "code",
   "execution_count": 9,
   "metadata": {},
   "outputs": [],
   "source": [
    "# -*- coding: utf-8 -*-\n",
    "import cv2\n",
    "import mediapipe as mp\n",
    "\n",
    "mp_drawing = mp.solutions.drawing_utils         # mediapipe 繪圖方法\n",
    "mp_drawing_styles = mp.solutions.drawing_styles # mediapipe 繪圖樣式\n",
    "mp_holistic = mp.solutions.holistic             # mediapipe 全身偵測方法\n",
    "\n",
    "cap = cv2.VideoCapture(0)\n",
    "\n",
    "# mediapipe 啟用偵測全身\n",
    "with mp_holistic.Holistic(\n",
    "    min_detection_confidence=0.5,\n",
    "    min_tracking_confidence=0.5) as holistic:\n",
    "\n",
    "    if not cap.isOpened():\n",
    "        print(\"Cannot open camera\")\n",
    "        exit()\n",
    "    while True:\n",
    "        ret, img = cap.read()\n",
    "        if not ret:\n",
    "            print(\"Cannot receive frame\")\n",
    "            break\n",
    "        img = cv2.resize(img,(520,300))\n",
    "        img2 = cv2.cvtColor(img, cv2.COLOR_BGR2RGB)   # 將 BGR 轉換成 RGB\n",
    "        results = holistic.process(img2)              # 開始偵測全身\n",
    "        # 面部偵測，繪製臉部網格\n",
    "        mp_drawing.draw_landmarks(\n",
    "            img,\n",
    "            results.face_landmarks,\n",
    "            mp_holistic.FACEMESH_CONTOURS,\n",
    "            landmark_drawing_spec=None,\n",
    "            connection_drawing_spec=mp_drawing_styles\n",
    "            .get_default_face_mesh_contours_style())\n",
    "        # 身體偵測，繪製身體骨架\n",
    "        mp_drawing.draw_landmarks(\n",
    "            img,\n",
    "            results.pose_landmarks,\n",
    "            mp_holistic.POSE_CONNECTIONS,\n",
    "            landmark_drawing_spec=mp_drawing_styles\n",
    "            .get_default_pose_landmarks_style())\n",
    "\n",
    "        cv2.imshow('oxxostudio', img)\n",
    "        if cv2.waitKey(5) == ord('q'):\n",
    "            break    # 按下 q 鍵停止\n",
    "cap.release()\n",
    "cv2.destroyAllWindows()"
   ]
  },
  {
   "cell_type": "markdown",
   "metadata": {},
   "source": [
    "測試畫面：![title](img/test-6.png)"
   ]
  },
  {
   "cell_type": "markdown",
   "metadata": {},
   "source": [
    "---"
   ]
  },
  {
   "cell_type": "markdown",
   "metadata": {},
   "source": [
    "Mediapipe 手勢辨識"
   ]
  },
  {
   "cell_type": "code",
   "execution_count": 10,
   "metadata": {},
   "outputs": [],
   "source": [
    "# -*- coding: utf-8 -*-\n",
    "import cv2\n",
    "import mediapipe as mp\n",
    "import math\n",
    "\n",
    "mp_drawing = mp.solutions.drawing_utils\n",
    "mp_drawing_styles = mp.solutions.drawing_styles\n",
    "mp_hands = mp.solutions.hands\n",
    "\n",
    "# 根據兩點的座標，計算角度\n",
    "def vector_2d_angle(v1, v2):\n",
    "    v1_x = v1[0]\n",
    "    v1_y = v1[1]\n",
    "    v2_x = v2[0]\n",
    "    v2_y = v2[1]\n",
    "    try:\n",
    "        angle_= math.degrees(math.acos((v1_x*v2_x+v1_y*v2_y)/(((v1_x**2+v1_y**2)**0.5)*((v2_x**2+v2_y**2)**0.5))))\n",
    "    except:\n",
    "        angle_ = 180\n",
    "    return angle_\n",
    "\n",
    "# 根據傳入的 21 個節點座標，得到該手指的角度\n",
    "def hand_angle(hand_):\n",
    "    angle_list = []\n",
    "    # thumb 大拇指角度\n",
    "    angle_ = vector_2d_angle(\n",
    "        ((int(hand_[0][0])- int(hand_[2][0])),(int(hand_[0][1])-int(hand_[2][1]))),\n",
    "        ((int(hand_[3][0])- int(hand_[4][0])),(int(hand_[3][1])- int(hand_[4][1])))\n",
    "        )\n",
    "    angle_list.append(angle_)\n",
    "    # index 食指角度\n",
    "    angle_ = vector_2d_angle(\n",
    "        ((int(hand_[0][0])-int(hand_[6][0])),(int(hand_[0][1])- int(hand_[6][1]))),\n",
    "        ((int(hand_[7][0])- int(hand_[8][0])),(int(hand_[7][1])- int(hand_[8][1])))\n",
    "        )\n",
    "    angle_list.append(angle_)\n",
    "    # middle 中指角度\n",
    "    angle_ = vector_2d_angle(\n",
    "        ((int(hand_[0][0])- int(hand_[10][0])),(int(hand_[0][1])- int(hand_[10][1]))),\n",
    "        ((int(hand_[11][0])- int(hand_[12][0])),(int(hand_[11][1])- int(hand_[12][1])))\n",
    "        )\n",
    "    angle_list.append(angle_)\n",
    "    # ring 無名指角度\n",
    "    angle_ = vector_2d_angle(\n",
    "        ((int(hand_[0][0])- int(hand_[14][0])),(int(hand_[0][1])- int(hand_[14][1]))),\n",
    "        ((int(hand_[15][0])- int(hand_[16][0])),(int(hand_[15][1])- int(hand_[16][1])))\n",
    "        )\n",
    "    angle_list.append(angle_)\n",
    "    # pink 小拇指角度\n",
    "    angle_ = vector_2d_angle(\n",
    "        ((int(hand_[0][0])- int(hand_[18][0])),(int(hand_[0][1])- int(hand_[18][1]))),\n",
    "        ((int(hand_[19][0])- int(hand_[20][0])),(int(hand_[19][1])- int(hand_[20][1])))\n",
    "        )\n",
    "    angle_list.append(angle_)\n",
    "    return angle_list\n",
    "\n",
    "# 根據手指角度的串列內容，返回對應的手勢名稱\n",
    "def hand_pos(finger_angle):\n",
    "    f1 = finger_angle[0]   # 大拇指角度\n",
    "    f2 = finger_angle[1]   # 食指角度\n",
    "    f3 = finger_angle[2]   # 中指角度\n",
    "    f4 = finger_angle[3]   # 無名指角度\n",
    "    f5 = finger_angle[4]   # 小拇指角度\n",
    "\n",
    "    # 小於 50 表示手指伸直，大於等於 50 表示手指捲縮\n",
    "    if f1<50 and f2>=50 and f3>=50 and f4>=50 and f5>=50:\n",
    "        return 'good'\n",
    "    elif f1>=50 and f2>=50 and f3<50 and f4>=50 and f5>=50:\n",
    "        return 'no!!!'\n",
    "    elif f1<50 and f2<50 and f3>=50 and f4>=50 and f5<50:\n",
    "        return 'ROCK!'\n",
    "    elif f1>=50 and f2>=50 and f3>=50 and f4>=50 and f5>=50:\n",
    "        return '0'\n",
    "    elif f1>=50 and f2>=50 and f3>=50 and f4>=50 and f5<50:\n",
    "        return 'pink'\n",
    "    elif f1>=50 and f2<50 and f3>=50 and f4>=50 and f5>=50:\n",
    "        return '1'\n",
    "    elif f1>=50 and f2<50 and f3<50 and f4>=50 and f5>=50:\n",
    "        return '2'\n",
    "    elif f1>=50 and f2>=50 and f3<50 and f4<50 and f5<50:\n",
    "        return 'ok'\n",
    "    elif f1<50 and f2>=50 and f3<50 and f4<50 and f5<50:\n",
    "        return 'ok'\n",
    "    elif f1>=50 and f2<50 and f3<50 and f4<50 and f5>50:\n",
    "        return '3'\n",
    "    elif f1>=50 and f2<50 and f3<50 and f4<50 and f5<50:\n",
    "        return '4'\n",
    "    elif f1<50 and f2<50 and f3<50 and f4<50 and f5<50:\n",
    "        return '5'\n",
    "    elif f1<50 and f2>=50 and f3>=50 and f4>=50 and f5<50:\n",
    "        return '6'\n",
    "    elif f1<50 and f2<50 and f3>=50 and f4>=50 and f5>=50:\n",
    "        return '7'\n",
    "    elif f1<50 and f2<50 and f3<50 and f4>=50 and f5>=50:\n",
    "        return '8'\n",
    "    elif f1<50 and f2<50 and f3<50 and f4<50 and f5>=50:\n",
    "        return '9'\n",
    "    else:\n",
    "        return ''\n",
    "\n",
    "cap = cv2.VideoCapture(0)            # 讀取攝影機\n",
    "fontFace = cv2.FONT_HERSHEY_SIMPLEX  # 印出文字的字型\n",
    "lineType = cv2.LINE_AA               # 印出文字的邊框\n",
    "\n",
    "# mediapipe 啟用偵測手掌\n",
    "with mp_hands.Hands(\n",
    "    model_complexity=0,\n",
    "    min_detection_confidence=0.5,\n",
    "    min_tracking_confidence=0.5) as hands:\n",
    "\n",
    "    if not cap.isOpened():\n",
    "        print(\"Cannot open camera\")\n",
    "        exit()\n",
    "    w, h = 540, 310                                  # 影像尺寸\n",
    "    while True:\n",
    "        ret, img = cap.read()\n",
    "        img = cv2.resize(img, (w,h))                 # 縮小尺寸，加快處理效率\n",
    "        if not ret:\n",
    "            print(\"Cannot receive frame\")\n",
    "            break\n",
    "        img2 = cv2.cvtColor(img, cv2.COLOR_BGR2RGB)  # 轉換成 RGB 色彩\n",
    "        results = hands.process(img2)                # 偵測手勢\n",
    "        if results.multi_hand_landmarks:\n",
    "            for hand_landmarks in results.multi_hand_landmarks:\n",
    "                finger_points = []                   # 記錄手指節點座標的串列\n",
    "                for i in hand_landmarks.landmark:\n",
    "                    # 將 21 個節點換算成座標，記錄到 finger_points\n",
    "                    x = i.x*w\n",
    "                    y = i.y*h\n",
    "                    finger_points.append((x,y))\n",
    "                if finger_points:\n",
    "                    finger_angle = hand_angle(finger_points) # 計算手指角度，回傳長度為 5 的串列\n",
    "                    #print(finger_angle)                     # 印出角度 ( 有需要就開啟註解 )\n",
    "                    text = hand_pos(finger_angle)            # 取得手勢所回傳的內容\n",
    "                    cv2.putText(img, text, (30,120), fontFace, 5, (255,255,255), 10, lineType) # 印出文字\n",
    "\n",
    "        cv2.imshow('oxxostudio', img)\n",
    "        if cv2.waitKey(5) == ord('q'):\n",
    "            break\n",
    "cap.release()\n",
    "cv2.destroyAllWindows()"
   ]
  },
  {
   "cell_type": "markdown",
   "metadata": {},
   "source": [
    "測試畫面：![title](img/test-7.png)"
   ]
  },
  {
   "cell_type": "markdown",
   "metadata": {},
   "source": [
    "---"
   ]
  }
 ],
 "metadata": {
  "kernelspec": {
   "display_name": "Python 3 (ipykernel)",
   "language": "python",
   "name": "python3"
  },
  "language_info": {
   "codemirror_mode": {
    "name": "ipython",
    "version": 3
   },
   "file_extension": ".py",
   "mimetype": "text/x-python",
   "name": "python",
   "nbconvert_exporter": "python",
   "pygments_lexer": "ipython3",
   "version": "3.9.9"
  }
 },
 "nbformat": 4,
 "nbformat_minor": 2
}
